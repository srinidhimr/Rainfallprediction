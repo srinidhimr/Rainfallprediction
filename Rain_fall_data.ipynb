{
 "cells": [
  {
   "cell_type": "code",
   "execution_count": 20,
   "metadata": {},
   "outputs": [],
   "source": [
    "import requests\n",
    "import numpy as np"
   ]
  },
  {
   "cell_type": "code",
   "execution_count": 21,
   "metadata": {},
   "outputs": [],
   "source": [
    "main_url='https://www.ncei.noaa.gov/data/global-precipitation-climatology-project-gpcp-monthly/access/'"
   ]
  },
  {
   "cell_type": "code",
   "execution_count": 27,
   "metadata": {},
   "outputs": [
    {
     "name": "stdout",
     "output_type": "stream",
     "text": [
      "[1979 1980 1981 1982 1983 1984 1985 1986 1987 1988 1989 1990 1991 1992\n",
      " 1993 1994 1995 1996 1997 1998 1999 2000 2001 2002 2003 2004 2005 2006\n",
      " 2007 2008 2009 2010 2011 2012 2013 2014 2015 2016 2017 2018 2019]\n",
      "[ 1  2  3  4  5  6  7  8  9 10 11 12]\n"
     ]
    }
   ],
   "source": [
    "years=np.arange(1979, 2020)\n",
    "months=np.arange(1,13)\n",
    "print(years)\n",
    "print(months)"
   ]
  },
  {
   "cell_type": "code",
   "execution_count": 28,
   "metadata": {},
   "outputs": [
    {
     "name": "stdout",
     "output_type": "stream",
     "text": [
      "Data read for year=1979\n",
      "Data read for year=1980\n",
      "Data read for year=1981\n",
      "Data read for year=1982\n",
      "Data read for year=1983\n",
      "Data read for year=1984\n",
      "Data read for year=1985\n",
      "Data read for year=1986\n",
      "Data read for year=1987\n",
      "Data read for year=1988\n",
      "Data read for year=1989\n",
      "Data read for year=1990\n",
      "Data read for year=1991\n",
      "Data read for year=1992\n",
      "Data read for year=1993\n",
      "Data read for year=1994\n",
      "Data read for year=1995\n",
      "Data read for year=1996\n",
      "Data read for year=1997\n",
      "Data read for year=1998\n",
      "Data read for year=1999\n",
      "Data read for year=2000\n",
      "Data read for year=2001\n",
      "Data read for year=2002\n",
      "Data read for year=2003\n",
      "Data read for year=2004\n",
      "Data read for year=2005\n",
      "Data read for year=2006\n",
      "Data read for year=2007\n",
      "Data read for year=2008\n",
      "Data read for year=2009\n",
      "Data read for year=2010\n",
      "Data read for year=2011\n",
      "Data read for year=2012\n",
      "Data read for year=2013\n",
      "Data read for year=2014\n",
      "Data read for year=2015\n",
      "Data read for year=2016\n",
      "Data read for year=2017\n",
      "Data read for year=2018\n",
      "Data read for year=2019\n"
     ]
    }
   ],
   "source": [
    "for year in years:\n",
    "    for month in months:\n",
    "        if len(str(month))==1:\n",
    "            month='0'+str(month)\n",
    "        else:\n",
    "            month=str(month)\n",
    "        url=main_url+ str(year) + '/' + 'gpcp_v02r03_monthly_d' + str(year) + month + '_c20170616.nc'\n",
    "        #print(url)\n",
    "        r=requests.get(url)\n",
    "        open('E:/Rain_Metrics/data_gpcp/'+str(year)+month+'.nc','wb').write(r.content)\n",
    "    print('Data read for year='+str(year))"
   ]
  },
  {
   "cell_type": "code",
   "execution_count": null,
   "metadata": {},
   "outputs": [],
   "source": []
  }
 ],
 "metadata": {
  "kernelspec": {
   "display_name": "Python 3",
   "language": "python",
   "name": "python3"
  },
  "language_info": {
   "codemirror_mode": {
    "name": "ipython",
    "version": 3
   },
   "file_extension": ".py",
   "mimetype": "text/x-python",
   "name": "python",
   "nbconvert_exporter": "python",
   "pygments_lexer": "ipython3",
   "version": "3.7.7"
  }
 },
 "nbformat": 4,
 "nbformat_minor": 4
}
